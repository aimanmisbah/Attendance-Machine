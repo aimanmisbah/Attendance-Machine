{
  "nbformat": 4,
  "nbformat_minor": 0,
  "metadata": {
    "colab": {
      "provenance": [],
      "authorship_tag": "ABX9TyOVo3jlrocYuSyco89wRpTy",
      "include_colab_link": true
    },
    "kernelspec": {
      "name": "python3",
      "display_name": "Python 3"
    },
    "language_info": {
      "name": "python"
    }
  },
  "cells": [
    {
      "cell_type": "markdown",
      "metadata": {
        "id": "view-in-github",
        "colab_type": "text"
      },
      "source": [
        "<a href=\"https://colab.research.google.com/github/aimanmisbah/Attendance-Machine/blob/main/Attendance_Machine.ipynb\" target=\"_parent\"><img src=\"https://colab.research.google.com/assets/colab-badge.svg\" alt=\"Open In Colab\"/></a>"
      ]
    },
    {
      "cell_type": "code",
      "source": [
        "# Attendance System Code\n",
        "\n",
        "class User:\n",
        "    def __init__(self, name, role):\n",
        "        self.name = name\n",
        "        self.role = role\n",
        "        self.attendance_records = []\n",
        "        self.leave_requests = []\n",
        "\n",
        "class AttendanceSystem:\n",
        "    def __init__(self):\n",
        "        self.users = {}\n",
        "        self.approvals = []\n",
        "\n",
        "    def register_user(self, name, role):\n",
        "        if name in self.users:\n",
        "            print(f\"{name} is already registered.\")\n",
        "        else:\n",
        "            self.users[name] = User(name, role)\n",
        "            print(f\"{name} registered as {role}.\")\n",
        "\n",
        "    def mark_attendance(self, name, entry_time, exit_time):\n",
        "        if name in self.users:\n",
        "            record = {\n",
        "                \"entry_time\": entry_time,\n",
        "                \"exit_time\": exit_time,\n",
        "                \"status\": self.get_attendance_status(entry_time)\n",
        "            }\n",
        "            self.users[name].attendance_records.append(record)\n",
        "            print(f\"Attendance marked for {name}: {record}\")\n",
        "        else:\n",
        "            print(f\"{name} is not registered.\")\n",
        "\n",
        "    def get_attendance_status(self, entry_time):\n",
        "        if entry_time > \"09:00\":\n",
        "            return \"Late\"\n",
        "        return \"On Time\"\n",
        "\n",
        "    def request_leave(self, name, reason):\n",
        "        if name in self.users:\n",
        "            self.users[name].leave_requests.append(reason)\n",
        "            print(f\"Leave requested by {name} for reason: {reason}\")\n",
        "        else:\n",
        "            print(f\"{name} is not registered.\")\n",
        "\n",
        "    def show_attendance(self):\n",
        "        for name, user in self.users.items():\n",
        "            print(f\"\\nAttendance records for {name}:\")\n",
        "            for record in user.attendance_records:\n",
        "                print(f\"Entry: {record['entry_time']} - Exit: {record['exit_time']} - Status: {record['status']}\")\n",
        "\n",
        "    def show_manager_view(self):\n",
        "        for user in self.users.values():\n",
        "            if user.role == \"Manager\":\n",
        "                print(f\"\\nManager view for {user.name}:\")\n",
        "                print(f\"Pending leave requests: {user.leave_requests}\")\n",
        "\n",
        "# Initialize the attendance system\n",
        "attendance_system = AttendanceSystem()\n"
      ],
      "metadata": {
        "id": "OFFW6OLGHfB1"
      },
      "execution_count": 5,
      "outputs": []
    },
    {
      "cell_type": "code",
      "source": [
        "# Register users (replace \"Employee1\", \"Employee2\" with actual names)\n",
        "attendance_system.register_user(\"Employee1\", \"Manager\")  # Change to actual manager name\n",
        "attendance_system.register_user(\"Employee2\", \"Employee\")   # Change to actual employee name\n",
        "attendance_system.register_user(\"Employee3\", \"Employee\")   # Add more employees as needed\n"
      ],
      "metadata": {
        "colab": {
          "base_uri": "https://localhost:8080/"
        },
        "id": "fwOpCOwKHhL9",
        "outputId": "3484f38d-3837-4e87-b7f1-56bb9d3eaacd"
      },
      "execution_count": 6,
      "outputs": [
        {
          "output_type": "stream",
          "name": "stdout",
          "text": [
            "Employee1 registered as Manager.\n",
            "Employee2 registered as Employee.\n",
            "Employee3 registered as Employee.\n"
          ]
        }
      ]
    },
    {
      "cell_type": "code",
      "source": [
        "# Mark attendance for employees\n",
        "attendance_system.mark_attendance(\"Employee2\", \"08:30\", \"17:30\")  # Change to actual employee name\n",
        "attendance_system.mark_attendance(\"Employee3\", \"09:15\", \"17:00\")  # Change to actual employee name\n",
        "\n",
        "# Request leave\n",
        "attendance_system.request_leave(\"Employee2\", \"Family emergency\")  # Change to actual employee name\n",
        "attendance_system.request_leave(\"Employee3\", \"Sick leave\")  # Change to actual employee name\n",
        "\n",
        "# Show attendance records\n",
        "attendance_system.show_attendance()\n",
        "\n",
        "# Manager view\n",
        "attendance_system.show_manager_view()\n"
      ],
      "metadata": {
        "colab": {
          "base_uri": "https://localhost:8080/"
        },
        "id": "cxhSpR9uHjv5",
        "outputId": "aef8661d-b978-4500-ab66-f26d050e5f4e"
      },
      "execution_count": 7,
      "outputs": [
        {
          "output_type": "stream",
          "name": "stdout",
          "text": [
            "Attendance marked for Employee2: {'entry_time': '08:30', 'exit_time': '17:30', 'status': 'On Time'}\n",
            "Attendance marked for Employee3: {'entry_time': '09:15', 'exit_time': '17:00', 'status': 'Late'}\n",
            "Leave requested by Employee2 for reason: Family emergency\n",
            "Leave requested by Employee3 for reason: Sick leave\n",
            "\n",
            "Attendance records for Employee1:\n",
            "\n",
            "Attendance records for Employee2:\n",
            "Entry: 08:30 - Exit: 17:30 - Status: On Time\n",
            "\n",
            "Attendance records for Employee3:\n",
            "Entry: 09:15 - Exit: 17:00 - Status: Late\n",
            "\n",
            "Manager view for Employee1:\n",
            "Pending leave requests: []\n"
          ]
        }
      ]
    }
  ]
}